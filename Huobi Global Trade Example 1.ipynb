{
 "cells": [
  {
   "cell_type": "code",
   "execution_count": null,
   "id": "1c495508",
   "metadata": {},
   "outputs": [],
   "source": [
    "import datetime, requests\n",
    "import pandas as pd\n",
    "from time import sleep\n",
    "\n",
    "trade_client = TradeClient(api_key=g_api_key, secret_key=g_secret_key)\n",
    "\n",
    "while True:\n",
    "    try:\n",
    "        btc = requests.get('https://api.huobi.pro/market/detail/merged?symbol=btcusdt').json()\n",
    "        print(btc['tick']['ask'][0])\n",
    "    except exception as e:\n",
    "        print('Error obtaining BTC data')\n",
    "        \n",
    "    if btc['tick']['ask'][0] < 58000.00:\n",
    "        print('Order requirment not reached.')\n",
    "        continue\n",
    "        \n",
    "    else:\n",
    "        try:\n",
    "            order = trade_client.create_order(symbol='BTCUSDT', account_id=<account_id>, \n",
    "                                                 order_type=OrderType.buy-market, source=OrderSource.API, amount=4.0)\n",
    "            print(order)\n",
    "        except exception as e:\n",
    "            print('Order failed to execute.')\n",
    "        \n",
    "        order_id = int(order['data'])\n",
    "        \n",
    "        try:\n",
    "            check_order = get_order(order_id = order_id)\n",
    "        except exception as e:\n",
    "            print('Failed to check order details.')\n",
    "        \n",
    "        if check_order['data']['state'] is not 'canceled':\n",
    "            print('Order executed successfully')\n",
    "        else:\n",
    "            print('Order was rejected')"
   ]
  },
  {
   "cell_type": "code",
   "execution_count": null,
   "id": "3553a1d8",
   "metadata": {},
   "outputs": [],
   "source": []
  }
 ],
 "metadata": {
  "kernelspec": {
   "display_name": "Python 3",
   "language": "python",
   "name": "python3"
  },
  "language_info": {
   "codemirror_mode": {
    "name": "ipython",
    "version": 3
   },
   "file_extension": ".py",
   "mimetype": "text/x-python",
   "name": "python",
   "nbconvert_exporter": "python",
   "pygments_lexer": "ipython3",
   "version": "3.8.3"
  }
 },
 "nbformat": 4,
 "nbformat_minor": 5
}
